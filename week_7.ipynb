{
  "nbformat": 4,
  "nbformat_minor": 0,
  "metadata": {
    "colab": {
      "provenance": [],
      "toc_visible": true,
      "authorship_tag": "ABX9TyMRAPMuR15UJRprbFJaKQKa",
      "include_colab_link": true
    },
    "kernelspec": {
      "name": "python3",
      "display_name": "Python 3"
    },
    "language_info": {
      "name": "python"
    }
  },
  "cells": [
    {
      "cell_type": "markdown",
      "metadata": {
        "id": "view-in-github",
        "colab_type": "text"
      },
      "source": [
        "<a href=\"https://colab.research.google.com/github/Valtern/PCVK_Ganjil_2025/blob/main/week_7.ipynb\" target=\"_parent\"><img src=\"https://colab.research.google.com/assets/colab-badge.svg\" alt=\"Open In Colab\"/></a>"
      ]
    },
    {
      "cell_type": "code",
      "execution_count": 2,
      "metadata": {
        "id": "ZqolsqIJbL0E",
        "colab": {
          "base_uri": "https://localhost:8080/"
        },
        "outputId": "8cfe009b-4e44-4fd5-e7ac-b445033d2e1a"
      },
      "outputs": [
        {
          "output_type": "stream",
          "name": "stdout",
          "text": [
            "Drive already mounted at /content/drive; to attempt to forcibly remount, call drive.mount(\"/content/drive\", force_remount=True).\n"
          ]
        }
      ],
      "source": [
        "import google.colab.drive\n",
        "\n",
        "google.colab.drive.mount('/content/drive')\n",
        "\n",
        "import numpy as np\n",
        "import matplotlib.pyplot as plt\n",
        "import cv2 as cv\n",
        "import math\n",
        "from skimage import io\n",
        "import os\n",
        "import glob\n",
        "from google.colab.patches import cv2_imshow\n",
        "from PIL import Image as im"
      ]
    },
    {
      "cell_type": "markdown",
      "source": [],
      "metadata": {
        "id": "o4YvRY7gdgpA"
      }
    },
    {
      "cell_type": "markdown",
      "source": [
        "# Part A"
      ],
      "metadata": {
        "id": "cmdnjLP_dXYi"
      }
    },
    {
      "cell_type": "markdown",
      "source": [
        "1. Tampilkan histogram tiap citra dan analisis distribusi intensitasnya"
      ],
      "metadata": {
        "id": "bTd-gRJZdZme"
      }
    },
    {
      "cell_type": "code",
      "source": [
        "img1 = cv.imread('')"
      ],
      "metadata": {
        "id": "Wg0ZrPKGdWbW"
      },
      "execution_count": null,
      "outputs": []
    },
    {
      "cell_type": "markdown",
      "source": [
        "2. Terapkan transformasi brightness dan contrast (linear/log brightness).\n",
        "\n",
        "o Tentukan nilai b (brightness) dan a (contrast) yang sesuai agar wajah tampak\n",
        "natural"
      ],
      "metadata": {
        "id": "3Qf_g2D_ddhy"
      }
    },
    {
      "cell_type": "code",
      "source": [],
      "metadata": {
        "id": "s8pKbO5xdh70"
      },
      "execution_count": null,
      "outputs": []
    },
    {
      "cell_type": "markdown",
      "source": [
        "3. Lakukan histogram equalization untuk memperbaiki sebaran kontras.\n",
        "\n",
        "o Bandingkan hasil visual dan histogram sebelum–sesudah."
      ],
      "metadata": {
        "id": "zwV5D1O1diL9"
      }
    },
    {
      "cell_type": "code",
      "source": [],
      "metadata": {
        "id": "fyAn0WIadl3Y"
      },
      "execution_count": null,
      "outputs": []
    },
    {
      "cell_type": "markdown",
      "source": [
        "4.  Terapkan filter spasial:\n",
        "\n",
        "o Low-pass filter untuk menghaluskan noise kulit wajah.\n",
        "\n",
        "o High-pass atau Laplacian filter untuk menajamkan tepi mata dan bibir"
      ],
      "metadata": {
        "id": "_fR2ShIddl8m"
      }
    },
    {
      "cell_type": "code",
      "source": [],
      "metadata": {
        "id": "MEv0ZxXLdqPV"
      },
      "execution_count": null,
      "outputs": []
    },
    {
      "cell_type": "markdown",
      "source": [
        "5. Implementasikan Floyd–Steinberg Dithering untuk menurunkan kedalaman warna\n",
        "wajah (bit-depth 4–6 bit), lalu analisis bagaimana efeknya terhadap detail dan ekspresi\n",
        "wajah."
      ],
      "metadata": {
        "id": "gJIEkFTsdqWH"
      }
    },
    {
      "cell_type": "code",
      "source": [],
      "metadata": {
        "id": "zYs-Cj9xdusP"
      },
      "execution_count": null,
      "outputs": []
    }
  ]
}